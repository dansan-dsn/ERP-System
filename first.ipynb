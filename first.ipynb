{
 "cells": [
  {
   "cell_type": "markdown",
   "id": "a7347a74-2bf6-42de-bd94-8c86685b96ad",
   "metadata": {},
   "source": [
    "# Data Structures"
   ]
  },
  {
   "cell_type": "code",
   "execution_count": 17,
   "id": "1f4c2e6a-fe50-40bf-944e-c422370ef518",
   "metadata": {},
   "outputs": [],
   "source": [
    "\"\"\" Let's say your a teacher and you have different student records containing id of a student and  the marks list \n",
    "in each subject where different students have taken different number of subjects and all these records are in hardcopy. You\n",
    "want to enter all the data in computer and want to compute the average marks of each student and display\"\"\"\n",
    "\n",
    "def getDataFromUser():\n",
    "    D = {}\n",
    "    while True:\n",
    "        studentId = input(\"Enter student ID: \")\n",
    "        marksList = input(\"Enter the marks by comma separeted values: \")\n",
    "        quit = input('Enter \"no\" to quit insertion: ')\n",
    "        if studentId in D:\n",
    "            print(studentId, \"is already inserted\")\n",
    "        else:\n",
    "            D[studentId] = marksList.split(\",\")\n",
    "\n",
    "        if quit.lower() == 'no':\n",
    "            return D"
   ]
  },
  {
   "cell_type": "code",
   "execution_count": 18,
   "id": "750b14a3-1d2c-45de-ab96-36f8291189c8",
   "metadata": {},
   "outputs": [
    {
     "name": "stdin",
     "output_type": "stream",
     "text": [
      "Enter student ID:  12\n",
      "Enter the marks by comma separeted values:  24, 65, 87, 45\n",
      "Enter \"no\" to quit insertion:  more\n",
      "Enter student ID:  23\n",
      "Enter the marks by comma separeted values:  23, 45, 67, 11\n",
      "Enter \"no\" to quit insertion:  more\n",
      "Enter student ID:  01\n",
      "Enter the marks by comma separeted values:  99, 56, 45, 76\n",
      "Enter \"no\" to quit insertion:  more\n",
      "Enter student ID:  01\n",
      "Enter the marks by comma separeted values:  23, 45\n",
      "Enter \"no\" to quit insertion:  more\n"
     ]
    },
    {
     "name": "stdout",
     "output_type": "stream",
     "text": [
      "01 is already inserted\n"
     ]
    },
    {
     "name": "stdin",
     "output_type": "stream",
     "text": [
      "Enter student ID:  no\n",
      "Enter the marks by comma separeted values:  no\n",
      "Enter \"no\" to quit insertion:  no\n"
     ]
    }
   ],
   "source": [
    "studentData = getDataFromUser()"
   ]
  },
  {
   "cell_type": "code",
   "execution_count": 44,
   "id": "57a42a94-43de-4b1f-9af1-0dc746a9a5f9",
   "metadata": {},
   "outputs": [
    {
     "data": {
      "text/plain": [
       "{'12': ['24', ' 65', ' 87', ' 45'],\n",
       " '23': ['23', ' 45', ' 67', ' 11'],\n",
       " '01': ['99', ' 56', ' 45', ' 76']}"
      ]
     },
     "execution_count": 44,
     "metadata": {},
     "output_type": "execute_result"
    }
   ],
   "source": [
    "studentData"
   ]
  },
  {
   "cell_type": "code",
   "execution_count": 45,
   "id": "a4767371-6a5e-4fd1-bd21-bcde28b7b422",
   "metadata": {},
   "outputs": [],
   "source": [
    "def getAverageMarks(D):\n",
    "    avgMarksDict = {}\n",
    "    for x in D:\n",
    "        L = D[x]\n",
    "        s = 0\n",
    "        for marks in L:\n",
    "            s += int(marks)\n",
    "        avgMarksDict[x] = s/len(L)\n",
    "    return avgMarksDict  "
   ]
  },
  {
   "cell_type": "code",
   "execution_count": 47,
   "id": "21e02299-bec4-4f73-afbb-782ee0fa24b6",
   "metadata": {},
   "outputs": [
    {
     "data": {
      "text/plain": [
       "{'12': 55.25, '23': 36.5, '01': 69.0}"
      ]
     },
     "execution_count": 47,
     "metadata": {},
     "output_type": "execute_result"
    }
   ],
   "source": [
    "avgM = getAverageMarks(studentData)\n",
    "avgM"
   ]
  },
  {
   "cell_type": "code",
   "execution_count": null,
   "id": "7d4d5fb0-b1d2-49ea-9421-c5b01be7b153",
   "metadata": {},
   "outputs": [],
   "source": [
    "0726834687"
   ]
  }
 ],
 "metadata": {
  "kernelspec": {
   "display_name": "Python 3 (ipykernel)",
   "language": "python",
   "name": "python3"
  },
  "language_info": {
   "codemirror_mode": {
    "name": "ipython",
    "version": 3
   },
   "file_extension": ".py",
   "mimetype": "text/x-python",
   "name": "python",
   "nbconvert_exporter": "python",
   "pygments_lexer": "ipython3",
   "version": "3.12.5"
  }
 },
 "nbformat": 4,
 "nbformat_minor": 5
}
