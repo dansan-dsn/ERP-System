{
 "cells": [
  {
   "cell_type": "markdown",
   "id": "9b24c378-b550-4d52-a1e6-5a37f89abc39",
   "metadata": {},
   "source": [
    "# Numpy"
   ]
  },
  {
   "cell_type": "code",
   "execution_count": 1,
   "id": "5064e6d5-aedb-46e8-97ee-2af2aca336c3",
   "metadata": {},
   "outputs": [],
   "source": [
    "import numpy as np"
   ]
  },
  {
   "cell_type": "code",
   "execution_count": 2,
   "id": "b06136fd-3334-4589-bff1-316fa5a095ea",
   "metadata": {},
   "outputs": [],
   "source": [
    "a = np.array([1, 2, 3, 4], dtype='i')"
   ]
  },
  {
   "cell_type": "code",
   "execution_count": 3,
   "id": "894b7fc3-12f5-4906-994b-1659f112d7b8",
   "metadata": {},
   "outputs": [],
   "source": [
    "b = np.array((2,3,4))"
   ]
  },
  {
   "cell_type": "code",
   "execution_count": 4,
   "id": "72042246-c4ee-4a49-b9a2-d3e9fe9e5836",
   "metadata": {},
   "outputs": [
    {
     "name": "stdout",
     "output_type": "stream",
     "text": [
      "[1 2 3 4]\n",
      "[2 3 4]\n"
     ]
    }
   ],
   "source": [
    "print(a)\n",
    "print(b)"
   ]
  },
  {
   "cell_type": "code",
   "execution_count": 5,
   "id": "535d06cc-c3ef-45ba-963e-9fade4008df7",
   "metadata": {},
   "outputs": [
    {
     "data": {
      "text/plain": [
       "numpy.ndarray"
      ]
     },
     "execution_count": 5,
     "metadata": {},
     "output_type": "execute_result"
    }
   ],
   "source": [
    "type(a)"
   ]
  },
  {
   "cell_type": "code",
   "execution_count": 6,
   "id": "eb16ef64-9a5d-436d-99d4-be70cf2b88d2",
   "metadata": {},
   "outputs": [
    {
     "data": {
      "text/plain": [
       "numpy.ndarray"
      ]
     },
     "execution_count": 6,
     "metadata": {},
     "output_type": "execute_result"
    }
   ],
   "source": [
    "type(b)"
   ]
  },
  {
   "cell_type": "code",
   "execution_count": 7,
   "id": "2fb6e99f-2eef-47f7-b34b-421066164e3c",
   "metadata": {},
   "outputs": [
    {
     "data": {
      "text/plain": [
       "dtype('int32')"
      ]
     },
     "execution_count": 7,
     "metadata": {},
     "output_type": "execute_result"
    }
   ],
   "source": [
    "a.dtype"
   ]
  },
  {
   "cell_type": "code",
   "execution_count": 8,
   "id": "95837a14-c99e-46c6-8ba7-94ea48b9fce0",
   "metadata": {},
   "outputs": [],
   "source": [
    "a = np.array([[1,2,3], [4,5,6]])"
   ]
  },
  {
   "cell_type": "code",
   "execution_count": 9,
   "id": "e050dc3d-b1c6-460f-b589-c80ec7ee3cb4",
   "metadata": {},
   "outputs": [
    {
     "data": {
      "text/plain": [
       "2"
      ]
     },
     "execution_count": 9,
     "metadata": {},
     "output_type": "execute_result"
    }
   ],
   "source": [
    "a.ndim"
   ]
  },
  {
   "cell_type": "code",
   "execution_count": 10,
   "id": "6a6ada45-617a-4801-8bbf-33ac8f60da40",
   "metadata": {},
   "outputs": [
    {
     "data": {
      "text/plain": [
       "np.int64(6)"
      ]
     },
     "execution_count": 10,
     "metadata": {},
     "output_type": "execute_result"
    }
   ],
   "source": [
    "a[1,2]"
   ]
  },
  {
   "cell_type": "code",
   "execution_count": 11,
   "id": "9e745d7c-f36c-4ed3-8ac9-f050b63775ea",
   "metadata": {},
   "outputs": [],
   "source": [
    "b = np.array([[[1,2,3,7], [4,5,6,7]], [[-1,-2,-3,-7], [-4,-5,-6,-7]]])"
   ]
  },
  {
   "cell_type": "code",
   "execution_count": 12,
   "id": "9ba44291-7953-4c3a-9387-8d2b9bbf7c02",
   "metadata": {},
   "outputs": [
    {
     "data": {
      "text/plain": [
       "3"
      ]
     },
     "execution_count": 12,
     "metadata": {},
     "output_type": "execute_result"
    }
   ],
   "source": [
    "b.ndim"
   ]
  },
  {
   "cell_type": "code",
   "execution_count": 13,
   "id": "326cd0c4-03f6-4c05-9e5f-2320054a4f8c",
   "metadata": {},
   "outputs": [
    {
     "data": {
      "text/plain": [
       "np.int64(7)"
      ]
     },
     "execution_count": 13,
     "metadata": {},
     "output_type": "execute_result"
    }
   ],
   "source": [
    "b[0,0,3]"
   ]
  },
  {
   "cell_type": "code",
   "execution_count": 14,
   "id": "5dce68b8-f44f-43f7-bb0b-3586c5d60d06",
   "metadata": {},
   "outputs": [
    {
     "data": {
      "text/plain": [
       "(2, 2, 4)"
      ]
     },
     "execution_count": 14,
     "metadata": {},
     "output_type": "execute_result"
    }
   ],
   "source": [
    "b.shape"
   ]
  },
  {
   "cell_type": "code",
   "execution_count": 15,
   "id": "f39063f4-ba80-4af9-8819-a15c704b9c67",
   "metadata": {},
   "outputs": [
    {
     "name": "stdout",
     "output_type": "stream",
     "text": [
      "Object `b.ones` not found.\n"
     ]
    }
   ],
   "source": [
    "b.ones?"
   ]
  },
  {
   "cell_type": "markdown",
   "id": "8cd4df34-f214-4da6-af0a-86edc10ace56",
   "metadata": {},
   "source": [
    "# slicing"
   ]
  },
  {
   "cell_type": "code",
   "execution_count": 16,
   "id": "efd71893-a064-4a37-8b19-7b6f4ea35f7d",
   "metadata": {},
   "outputs": [],
   "source": [
    "A = np.arange(100)"
   ]
  },
  {
   "cell_type": "code",
   "execution_count": 17,
   "id": "830575df-554d-4710-8f33-59472ebcfea9",
   "metadata": {},
   "outputs": [
    {
     "name": "stdout",
     "output_type": "stream",
     "text": [
      "[3 4 5 6 7 8 9]\n"
     ]
    }
   ],
   "source": [
    "b = A[3:10]\n",
    "print(b)"
   ]
  },
  {
   "cell_type": "code",
   "execution_count": 18,
   "id": "7d2e9ea0-a7a2-423b-a7ee-a14ed6446f4a",
   "metadata": {},
   "outputs": [],
   "source": [
    "b[0] = -23"
   ]
  },
  {
   "cell_type": "code",
   "execution_count": 19,
   "id": "34997e1a-9ac9-423a-b17e-86dd178517bb",
   "metadata": {},
   "outputs": [
    {
     "data": {
      "text/plain": [
       "array([-23,   4,   5,   6,   7,   8,   9])"
      ]
     },
     "execution_count": 19,
     "metadata": {},
     "output_type": "execute_result"
    }
   ],
   "source": [
    "b"
   ]
  },
  {
   "cell_type": "code",
   "execution_count": 20,
   "id": "f3c4f6fb-7137-4e0d-ab36-4a9f2a862963",
   "metadata": {},
   "outputs": [
    {
     "data": {
      "text/plain": [
       "array([  0,   1,   2, -23,   4,   5,   6,   7,   8,   9,  10,  11,  12,\n",
       "        13,  14,  15,  16,  17,  18,  19,  20,  21,  22,  23,  24,  25,\n",
       "        26,  27,  28,  29,  30,  31,  32,  33,  34,  35,  36,  37,  38,\n",
       "        39,  40,  41,  42,  43,  44,  45,  46,  47,  48,  49,  50,  51,\n",
       "        52,  53,  54,  55,  56,  57,  58,  59,  60,  61,  62,  63,  64,\n",
       "        65,  66,  67,  68,  69,  70,  71,  72,  73,  74,  75,  76,  77,\n",
       "        78,  79,  80,  81,  82,  83,  84,  85,  86,  87,  88,  89,  90,\n",
       "        91,  92,  93,  94,  95,  96,  97,  98,  99])"
      ]
     },
     "execution_count": 20,
     "metadata": {},
     "output_type": "execute_result"
    }
   ],
   "source": [
    "A"
   ]
  },
  {
   "cell_type": "code",
   "execution_count": 21,
   "id": "47cbeb99-33a5-4baf-a9da-542b5792bc4e",
   "metadata": {},
   "outputs": [],
   "source": [
    "c = A[4:10].copy()"
   ]
  },
  {
   "cell_type": "code",
   "execution_count": 22,
   "id": "9976a2bc-5985-4bd3-b84e-94a6558a1567",
   "metadata": {},
   "outputs": [
    {
     "data": {
      "text/plain": [
       "array([ 0,  5, 10, 15, 20, 25, 30, 35, 40, 45, 50, 55, 60, 65, 70, 75, 80,\n",
       "       85, 90, 95])"
      ]
     },
     "execution_count": 22,
     "metadata": {},
     "output_type": "execute_result"
    }
   ],
   "source": [
    "A[::5]"
   ]
  },
  {
   "cell_type": "code",
   "execution_count": 23,
   "id": "364798ac-8c6b-4618-9370-2246688ae5f8",
   "metadata": {},
   "outputs": [
    {
     "data": {
      "text/plain": [
       "array([99, 94, 89, 84, 79, 74, 69, 64, 59, 54, 49, 44, 39, 34, 29, 24, 19,\n",
       "       14,  9,  4])"
      ]
     },
     "execution_count": 23,
     "metadata": {},
     "output_type": "execute_result"
    }
   ],
   "source": [
    "A[::-5]"
   ]
  },
  {
   "cell_type": "code",
   "execution_count": 24,
   "id": "09259799-4a73-4886-8575-6a825b662686",
   "metadata": {},
   "outputs": [
    {
     "data": {
      "text/plain": [
       "array([4, 6, 8])"
      ]
     },
     "execution_count": 24,
     "metadata": {},
     "output_type": "execute_result"
    }
   ],
   "source": [
    "c[::2]"
   ]
  },
  {
   "cell_type": "code",
   "execution_count": 25,
   "id": "b9eb5e86-75e0-43dd-b907-dbe01c3fb41c",
   "metadata": {},
   "outputs": [
    {
     "data": {
      "text/plain": [
       "np.int64(3)"
      ]
     },
     "execution_count": 25,
     "metadata": {},
     "output_type": "execute_result"
    }
   ],
   "source": [
    "idx = np.argwhere(A==-23)[0][0]\n",
    "idx"
   ]
  },
  {
   "cell_type": "code",
   "execution_count": 26,
   "id": "2f2b2ef8-c5c4-430d-9df3-6a4475fff103",
   "metadata": {},
   "outputs": [],
   "source": [
    "A[idx] = 3"
   ]
  },
  {
   "cell_type": "code",
   "execution_count": 27,
   "id": "f08c40b7-e893-4e66-9827-784404b11766",
   "metadata": {},
   "outputs": [
    {
     "data": {
      "text/plain": [
       "array([ 0,  1,  2,  3,  4,  5,  6,  7,  8,  9, 10, 11, 12, 13, 14, 15, 16,\n",
       "       17, 18, 19, 20, 21, 22, 23, 24, 25, 26, 27, 28, 29, 30, 31, 32, 33,\n",
       "       34, 35, 36, 37, 38, 39, 40, 41, 42, 43, 44, 45, 46, 47, 48, 49, 50,\n",
       "       51, 52, 53, 54, 55, 56, 57, 58, 59, 60, 61, 62, 63, 64, 65, 66, 67,\n",
       "       68, 69, 70, 71, 72, 73, 74, 75, 76, 77, 78, 79, 80, 81, 82, 83, 84,\n",
       "       85, 86, 87, 88, 89, 90, 91, 92, 93, 94, 95, 96, 97, 98, 99])"
      ]
     },
     "execution_count": 27,
     "metadata": {},
     "output_type": "execute_result"
    }
   ],
   "source": [
    "A"
   ]
  },
  {
   "cell_type": "code",
   "execution_count": 28,
   "id": "b01282b3-c886-47e2-adb0-9419e10b99aa",
   "metadata": {},
   "outputs": [],
   "source": [
    "A = np.round(10*np.random.rand(5,4))"
   ]
  },
  {
   "cell_type": "code",
   "execution_count": 29,
   "id": "70252530-9cf5-4b01-a1b1-9c3f6795d624",
   "metadata": {},
   "outputs": [
    {
     "data": {
      "text/plain": [
       "array([[5., 6., 1., 8.],\n",
       "       [1., 5., 6., 9.],\n",
       "       [5., 6., 3., 5.],\n",
       "       [6., 7., 8., 3.],\n",
       "       [3., 4., 9., 1.]])"
      ]
     },
     "execution_count": 29,
     "metadata": {},
     "output_type": "execute_result"
    }
   ],
   "source": [
    "A"
   ]
  },
  {
   "cell_type": "code",
   "execution_count": 30,
   "id": "a274b330-83b5-42a0-a7d4-6fbe147eba1a",
   "metadata": {
    "scrolled": true
   },
   "outputs": [
    {
     "data": {
      "text/plain": [
       "np.float64(5.0)"
      ]
     },
     "execution_count": 30,
     "metadata": {},
     "output_type": "execute_result"
    }
   ],
   "source": [
    "A[1,1]"
   ]
  },
  {
   "cell_type": "code",
   "execution_count": 31,
   "id": "3f3a80ff-fb57-43fa-ad71-cdf1f09ce454",
   "metadata": {},
   "outputs": [
    {
     "data": {
      "text/plain": [
       "array([1., 5., 6., 9.])"
      ]
     },
     "execution_count": 31,
     "metadata": {},
     "output_type": "execute_result"
    }
   ],
   "source": [
    "A[1,:]"
   ]
  },
  {
   "cell_type": "code",
   "execution_count": 32,
   "id": "53b0ff5e-72f7-4523-823e-35a3b609f03b",
   "metadata": {},
   "outputs": [
    {
     "data": {
      "text/plain": [
       "array([6., 5., 6., 7., 4.])"
      ]
     },
     "execution_count": 32,
     "metadata": {},
     "output_type": "execute_result"
    }
   ],
   "source": [
    "A[:,1]"
   ]
  },
  {
   "cell_type": "code",
   "execution_count": 33,
   "id": "9e6c1774-b579-4687-920d-b5b60cc79812",
   "metadata": {},
   "outputs": [
    {
     "data": {
      "text/plain": [
       "array([[6., 9.],\n",
       "       [3., 5.]])"
      ]
     },
     "execution_count": 33,
     "metadata": {},
     "output_type": "execute_result"
    }
   ],
   "source": [
    "A[1:3,2:4]"
   ]
  },
  {
   "cell_type": "code",
   "execution_count": 34,
   "id": "0b30804b-4e35-4824-930f-421cf947bfd7",
   "metadata": {},
   "outputs": [
    {
     "data": {
      "text/plain": [
       "array([[5., 1., 5., 6., 3.],\n",
       "       [6., 5., 6., 7., 4.],\n",
       "       [1., 6., 3., 8., 9.],\n",
       "       [8., 9., 5., 3., 1.]])"
      ]
     },
     "execution_count": 34,
     "metadata": {},
     "output_type": "execute_result"
    }
   ],
   "source": [
    "A.T"
   ]
  },
  {
   "cell_type": "code",
   "execution_count": 35,
   "id": "2be4b6aa-50ae-4ff9-811b-a765f6fb31be",
   "metadata": {},
   "outputs": [],
   "source": [
    "import numpy.linalg as la"
   ]
  },
  {
   "cell_type": "code",
   "execution_count": 36,
   "id": "b37e9a75-168a-4784-888c-f49dd23fa165",
   "metadata": {},
   "outputs": [
    {
     "data": {
      "text/plain": [
       "array([[-1.0741734 ,  2.07973335, -0.32188554],\n",
       "       [-2.20260488,  1.08539253,  1.82283455],\n",
       "       [ 2.41013311, -2.0359613 , -0.10898952]])"
      ]
     },
     "execution_count": 36,
     "metadata": {},
     "output_type": "execute_result"
    }
   ],
   "source": [
    "la.inv(np.random.rand(3,3))"
   ]
  },
  {
   "cell_type": "code",
   "execution_count": 37,
   "id": "ba2871d9-8ca5-4958-aa1a-f067e228f23e",
   "metadata": {},
   "outputs": [],
   "source": [
    "A.sort(axis=0)"
   ]
  },
  {
   "cell_type": "code",
   "execution_count": 38,
   "id": "75be7fbd-b359-404b-ace9-e42554039f7b",
   "metadata": {},
   "outputs": [
    {
     "data": {
      "text/plain": [
       "array([[1., 4., 1., 1.],\n",
       "       [3., 5., 3., 3.],\n",
       "       [5., 6., 6., 5.],\n",
       "       [5., 6., 8., 8.],\n",
       "       [6., 7., 9., 9.]])"
      ]
     },
     "execution_count": 38,
     "metadata": {},
     "output_type": "execute_result"
    }
   ],
   "source": [
    "A"
   ]
  },
  {
   "cell_type": "code",
   "execution_count": 39,
   "id": "6ad8df5d-c3ca-4c6e-b5eb-82741bc1caae",
   "metadata": {},
   "outputs": [],
   "source": [
    "A.sort(axis=1)"
   ]
  },
  {
   "cell_type": "code",
   "execution_count": 40,
   "id": "a417a5e3-daa6-4cd9-a2bb-6a45203206bb",
   "metadata": {},
   "outputs": [
    {
     "data": {
      "text/plain": [
       "array([[1., 1., 1., 4.],\n",
       "       [3., 3., 3., 5.],\n",
       "       [5., 5., 6., 6.],\n",
       "       [5., 6., 8., 8.],\n",
       "       [6., 7., 9., 9.]])"
      ]
     },
     "execution_count": 40,
     "metadata": {},
     "output_type": "execute_result"
    }
   ],
   "source": [
    "A"
   ]
  },
  {
   "cell_type": "code",
   "execution_count": 41,
   "id": "de02a4c2-b19e-4313-86ed-7eec10fdde73",
   "metadata": {},
   "outputs": [],
   "source": [
    "A = np.arange(100)"
   ]
  },
  {
   "cell_type": "code",
   "execution_count": 42,
   "id": "c8873ecf-3bf2-4686-ae0e-cfbd3877916f",
   "metadata": {},
   "outputs": [],
   "source": [
    "B = A[[3,5,6]]"
   ]
  },
  {
   "cell_type": "code",
   "execution_count": 43,
   "id": "3af9cab3-0eec-447f-9c4a-29f3919d7ab3",
   "metadata": {},
   "outputs": [
    {
     "data": {
      "text/plain": [
       "array([3, 5, 6])"
      ]
     },
     "execution_count": 43,
     "metadata": {},
     "output_type": "execute_result"
    }
   ],
   "source": [
    "B"
   ]
  },
  {
   "cell_type": "code",
   "execution_count": 44,
   "id": "da0f2c8b-6aea-4fab-a9e4-fd23489d86f3",
   "metadata": {},
   "outputs": [],
   "source": [
    "B[2] = -2"
   ]
  },
  {
   "cell_type": "code",
   "execution_count": 45,
   "id": "a86c3dbc-e0ec-43e1-8c6d-70c1ef9b9f90",
   "metadata": {},
   "outputs": [
    {
     "data": {
      "text/plain": [
       "array([ 3,  5, -2])"
      ]
     },
     "execution_count": 45,
     "metadata": {},
     "output_type": "execute_result"
    }
   ],
   "source": [
    "B"
   ]
  },
  {
   "cell_type": "code",
   "execution_count": 46,
   "id": "c32d897d-5cfe-493b-9b40-30ad085d1ec7",
   "metadata": {},
   "outputs": [],
   "source": [
    "B = A[A<40]"
   ]
  },
  {
   "cell_type": "code",
   "execution_count": 47,
   "id": "336126c5-5779-489b-9f5c-57c69a7527f6",
   "metadata": {},
   "outputs": [
    {
     "data": {
      "text/plain": [
       "array([ 0,  1,  2,  3,  4,  5,  6,  7,  8,  9, 10, 11, 12, 13, 14, 15, 16,\n",
       "       17, 18, 19, 20, 21, 22, 23, 24, 25, 26, 27, 28, 29, 30, 31, 32, 33,\n",
       "       34, 35, 36, 37, 38, 39])"
      ]
     },
     "execution_count": 47,
     "metadata": {},
     "output_type": "execute_result"
    }
   ],
   "source": [
    "B"
   ]
  },
  {
   "cell_type": "code",
   "execution_count": 48,
   "id": "02e08d45-3d48-4be3-a069-6724666e729d",
   "metadata": {},
   "outputs": [],
   "source": [
    "B = A[(A<40) & (A>30)]"
   ]
  },
  {
   "cell_type": "code",
   "execution_count": 49,
   "id": "bbc961d9-36c0-4de1-83f4-aa5515647518",
   "metadata": {},
   "outputs": [
    {
     "data": {
      "text/plain": [
       "array([31, 32, 33, 34, 35, 36, 37, 38, 39])"
      ]
     },
     "execution_count": 49,
     "metadata": {},
     "output_type": "execute_result"
    }
   ],
   "source": [
    "B"
   ]
  },
  {
   "cell_type": "code",
   "execution_count": 59,
   "id": "77a7853d-def5-45f3-95ec-a939ff87efa3",
   "metadata": {},
   "outputs": [],
   "source": [
    "A = np.random.permutation(np.arange(10))"
   ]
  },
  {
   "cell_type": "code",
   "execution_count": 60,
   "id": "07c292c0-1678-47b0-bf6a-170e2ade5d06",
   "metadata": {},
   "outputs": [
    {
     "data": {
      "text/plain": [
       "array([7, 1, 0, 9, 3, 8, 5, 4, 2, 6])"
      ]
     },
     "execution_count": 60,
     "metadata": {},
     "output_type": "execute_result"
    }
   ],
   "source": [
    "A"
   ]
  },
  {
   "cell_type": "code",
   "execution_count": 61,
   "id": "6d1a487c-3feb-4152-8cdd-c7595bbb5d65",
   "metadata": {},
   "outputs": [],
   "source": [
    "A = np.random.rand(1000)"
   ]
  },
  {
   "cell_type": "code",
   "execution_count": 62,
   "id": "088fe0b4-fde1-4bc3-8685-42f9efb2e5cc",
   "metadata": {},
   "outputs": [],
   "source": [
    "import matplotlib.pyplot as plt"
   ]
  },
  {
   "cell_type": "code",
   "execution_count": 64,
   "id": "3a9b80bf-8290-40c2-8d5f-fcfa9cd3e2c4",
   "metadata": {},
   "outputs": [
    {
     "data": {
      "text/plain": [
       "(array([105.,  83., 113., 123.,  88.,  83., 108.,  99.,  92., 106.]),\n",
       " array([1.25341710e-04, 1.00095583e-01, 2.00065824e-01, 3.00036065e-01,\n",
       "        4.00006307e-01, 4.99976548e-01, 5.99946789e-01, 6.99917030e-01,\n",
       "        7.99887272e-01, 8.99857513e-01, 9.99827754e-01]),\n",
       " <BarContainer object of 10 artists>)"
      ]
     },
     "execution_count": 64,
     "metadata": {},
     "output_type": "execute_result"
    },
    {
     "data": {
      "image/png": "[encoded data removed]",
      "text/plain": [
       "<Figure size 640x480 with 1 Axes>"
      ]
     },
     "metadata": {},
     "output_type": "display_data"
    }
   ],
   "source": [
    "plt.hist(A)"
   ]
  },
  {
   "cell_type": "code",
   "execution_count": 65,
   "id": "c9932dc1-4546-451b-ace8-270d8d1c1f0a",
   "metadata": {},
   "outputs": [],
   "source": [
    "A = np.round(10*np.random.rand(2,3))"
   ]
  },
  {
   "cell_type": "code",
   "execution_count": 67,
   "id": "7f67dd83-28aa-4d12-84b7-089b0cd43879",
   "metadata": {},
   "outputs": [
    {
     "data": {
      "text/plain": [
       "array([[ 6.,  4.,  8.],\n",
       "       [ 5., 13.,  3.]])"
      ]
     },
     "execution_count": 67,
     "metadata": {},
     "output_type": "execute_result"
    }
   ],
   "source": [
    "A+3"
   ]
  },
  {
   "cell_type": "code",
   "execution_count": 68,
   "id": "385e3c65-82a0-4ca1-a815-53f65d02b696",
   "metadata": {},
   "outputs": [
    {
     "data": {
      "text/plain": [
       "array([[ 3.,  1.,  5.],\n",
       "       [ 3., 11.,  1.]])"
      ]
     },
     "execution_count": 68,
     "metadata": {},
     "output_type": "execute_result"
    }
   ],
   "source": [
    "A+(np.arange(2).reshape(2,1))"
   ]
  },
  {
   "cell_type": "code",
   "execution_count": 70,
   "id": "cc6fa995-c96d-45dd-b9c3-bfe59ff899a0",
   "metadata": {},
   "outputs": [
    {
     "data": {
      "text/plain": [
       "array([3, 9, 7, 5, 2, 8, 0, 4, 1, 6])"
      ]
     },
     "execution_count": 70,
     "metadata": {},
     "output_type": "execute_result"
    }
   ],
   "source": [
    "A = np.random.permutation(np.arange(10))\n",
    "A"
   ]
  },
  {
   "cell_type": "code",
   "execution_count": 71,
   "id": "2c2720a8-5dab-4ad0-9dd3-36b97a809090",
   "metadata": {},
   "outputs": [
    {
     "data": {
      "text/plain": [
       "array([0, 1, 2, 3, 4, 5, 6, 7, 8, 9])"
      ]
     },
     "execution_count": 71,
     "metadata": {},
     "output_type": "execute_result"
    }
   ],
   "source": [
    "np.sort(A)"
   ]
  },
  {
   "cell_type": "code",
   "execution_count": 75,
   "id": "5baf5f10-b83e-4778-98e2-3b25c316f023",
   "metadata": {},
   "outputs": [],
   "source": [
    "A.sort()"
   ]
  },
  {
   "cell_type": "code",
   "execution_count": 76,
   "id": "44538233-468e-4185-bca8-08e2df2d3542",
   "metadata": {},
   "outputs": [
    {
     "data": {
      "text/plain": [
       "array([9, 8, 7, 6, 5, 4, 3, 2, 1, 0])"
      ]
     },
     "execution_count": 76,
     "metadata": {},
     "output_type": "execute_result"
    }
   ],
   "source": [
    "A = A[::-1]\n",
    "A"
   ]
  },
  {
   "cell_type": "code",
   "execution_count": 77,
   "id": "b6df0847-2779-4fb7-9178-ac67c434e56f",
   "metadata": {},
   "outputs": [
    {
     "name": "stdout",
     "output_type": "stream",
     "text": [
      "1.04 ms ± 63.1 μs per loop (mean ± std. dev. of 7 runs, 100 loops each)\n",
      "8.36 μs ± 331 ns per loop (mean ± std. dev. of 7 runs, 100,000 loops each)\n"
     ]
    }
   ],
   "source": [
    "B = np.random.rand(10000)\n",
    "%timeit sum(B)\n",
    "%timeit np.sum(B)"
   ]
  },
  {
   "cell_type": "code",
   "execution_count": null,
   "id": "02f6f139-044d-4476-a56e-407c1e0bae77",
   "metadata": {},
   "outputs": [],
   "source": []
  }
 ],
 "metadata": {
  "kernelspec": {
   "display_name": "Python 3 (ipykernel)",
   "language": "python",
   "name": "python3"
  },
  "language_info": {
   "codemirror_mode": {
    "name": "ipython",
    "version": 3
   },
   "file_extension": ".py",
   "mimetype": "text/x-python",
   "name": "python",
   "nbconvert_exporter": "python",
   "pygments_lexer": "ipython3",
   "version": "3.12.5"
  }
 },
 "nbformat": 4,
 "nbformat_minor": 5
}
